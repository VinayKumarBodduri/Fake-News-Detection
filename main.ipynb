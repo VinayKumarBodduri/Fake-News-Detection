{
 "cells": [
  {
   "cell_type": "raw",
   "id": "2d61d131-8738-4f29-afd5-cb358810ce19",
   "metadata": {},
   "source": [
    "Fake News Detection"
   ]
  },
  {
   "cell_type": "code",
   "execution_count": null,
   "id": "68443428-9f33-4bbb-a967-8444588d9d41",
   "metadata": {},
   "outputs": [],
   "source": [
    "import pandas as pd\n",
    "import numpy as np\n",
    "import seaborn as sns\n",
    "import re\n",
    "import matplotlib.pyplot as plt\n",
    "from nltk.corpus import stopwords\n",
    "from sklearn.model_selection import train_test_split\n",
    "from sklearn.feature_extraction.text import TfidfVectorizer\n",
    "from sklearn.linear_model import LogisticRegression\n",
    "from sklearn.naive_bayes import MultinomialNB\n",
    "from sklearn.tree import DecisionTreeClassifier\n",
    "from sklearn import metrics\n",
    "import pickle"
   ]
  },
  {
   "cell_type": "code",
   "execution_count": null,
   "id": "c9c7a56e-84fd-4db5-94e5-6c2e9674d2c1",
   "metadata": {},
   "outputs": [],
   "source": [
    "fake = pd.read_csv(\"Data\\Fake.csv\")\n",
    "real = pd.read_csv(\"Data\\True.csv\")"
   ]
  },
  {
   "cell_type": "code",
   "execution_count": null,
   "id": "4211d35a-2bf4-4f1a-87bf-1b431c7b93ae",
   "metadata": {},
   "outputs": [],
   "source": [
    "fake.head()"
   ]
  },
  {
   "cell_type": "code",
   "execution_count": null,
   "id": "8e78bf9c-6f89-454b-9018-c67d31969dcf",
   "metadata": {},
   "outputs": [],
   "source": [
    "real.head()"
   ]
  },
  {
   "cell_type": "code",
   "execution_count": null,
   "id": "fcae1402-e12b-4620-9d3e-9530b1c80943",
   "metadata": {},
   "outputs": [],
   "source": [
    "fake.shape"
   ]
  },
  {
   "cell_type": "code",
   "execution_count": null,
   "id": "4c811c99-0635-4c14-8821-90c1939b0c37",
   "metadata": {},
   "outputs": [],
   "source": [
    "real.shape"
   ]
  },
  {
   "cell_type": "code",
   "execution_count": null,
   "id": "2a07136f-a024-4659-a258-390116e3f684",
   "metadata": {},
   "outputs": [],
   "source": [
    "fake[\"Target\"] = 0"
   ]
  },
  {
   "cell_type": "code",
   "execution_count": null,
   "id": "94ee7961-aa58-4845-8eba-567dae6e4ad6",
   "metadata": {},
   "outputs": [],
   "source": [
    "real[\"Target\"] = 1"
   ]
  },
  {
   "cell_type": "code",
   "execution_count": null,
   "id": "1de439fa-1904-4d53-87a0-e66ec26b9821",
   "metadata": {},
   "outputs": [],
   "source": [
    "fakenews = pd.concat([fake,real])"
   ]
  },
  {
   "cell_type": "code",
   "execution_count": null,
   "id": "c0a422c1-2cd8-483d-b31b-13d2c544e2b2",
   "metadata": {},
   "outputs": [],
   "source": [
    "fakenews.head()\n"
   ]
  },
  {
   "cell_type": "code",
   "execution_count": null,
   "id": "b7a4c988-9d7f-4467-9470-ba9b6568bfe2",
   "metadata": {},
   "outputs": [],
   "source": [
    "fakenews.shape"
   ]
  },
  {
   "cell_type": "code",
   "execution_count": null,
   "id": "844e8f98-dca1-4d29-a406-02aff70f730b",
   "metadata": {},
   "outputs": [],
   "source": [
    "fakenews = fakenews.sample(n = 44898, random_state=42).reset_index(drop=True)"
   ]
  },
  {
   "cell_type": "code",
   "execution_count": null,
   "id": "23e8cd5e-2a2b-4fa2-bf65-2da1484c573f",
   "metadata": {},
   "outputs": [],
   "source": [
    "fakenews.head(10)"
   ]
  },
  {
   "cell_type": "code",
   "execution_count": null,
   "id": "809544a5-a8d9-4b44-a18a-95e15c5e242f",
   "metadata": {},
   "outputs": [],
   "source": [
    "fakenews.shape"
   ]
  },
  {
   "cell_type": "code",
   "execution_count": null,
   "id": "2927abf8-7e38-4291-8991-c1a870c46d89",
   "metadata": {},
   "outputs": [],
   "source": [
    "fakenews.drop_duplicates(inplace=True)"
   ]
  },
  {
   "cell_type": "code",
   "execution_count": null,
   "id": "8e232fef-7904-4a9e-af8c-0e7e9d371781",
   "metadata": {},
   "outputs": [],
   "source": [
    "fakenews.shape"
   ]
  },
  {
   "cell_type": "code",
   "execution_count": null,
   "id": "6a8cbbea-005e-4c8a-a18b-df3461a1f197",
   "metadata": {},
   "outputs": [],
   "source": [
    "fakenews[\"Target\"].value_counts()"
   ]
  },
  {
   "cell_type": "code",
   "execution_count": null,
   "id": "bc16272a-0d87-4a65-8ba0-dbd73ccd69ab",
   "metadata": {},
   "outputs": [],
   "source": [
    "fakenews.isna().sum()"
   ]
  },
  {
   "cell_type": "code",
   "execution_count": null,
   "id": "42c0b916-173b-43e2-beda-be079233ef36",
   "metadata": {},
   "outputs": [],
   "source": [
    "sns.countplot(x=\"Target\", data = fakenews)"
   ]
  },
  {
   "cell_type": "code",
   "execution_count": null,
   "id": "20ece2fe-3ea4-4026-98c1-129fce1276d4",
   "metadata": {},
   "outputs": [],
   "source": [
    "plt.figure(figsize=(15,10))\n",
    "sns.countplot(x=\"subject\" ,data = fakenews)\n",
    "plt.xticks(rotation=90)"
   ]
  },
  {
   "cell_type": "code",
   "execution_count": null,
   "id": "22712e75-5502-4c06-ae29-bcd102a01ac3",
   "metadata": {},
   "outputs": [],
   "source": [
    "fakenews.info()"
   ]
  },
  {
   "cell_type": "code",
   "execution_count": null,
   "id": "604143d5-a206-4025-940b-378ede2c88eb",
   "metadata": {},
   "outputs": [],
   "source": [
    "fakenews = fakenews.drop([\"title\",\"subject\",\"date\"],axis=1)"
   ]
  },
  {
   "cell_type": "code",
   "execution_count": null,
   "id": "e4ed7466-41cd-4bcb-804e-e936b3cc3310",
   "metadata": {},
   "outputs": [],
   "source": [
    "fakenews.head(10)"
   ]
  },
  {
   "cell_type": "code",
   "execution_count": null,
   "id": "d931500c-4c07-480d-8649-61e5d547cdbc",
   "metadata": {},
   "outputs": [],
   "source": [
    "def cleaning(text):\n",
    "    text = text.lower()\n",
    "    text = re.sub('[^a-zA-Z]', ' ' ,text)\n",
    "    text = text.split()\n",
    "    \n",
    "    return text\n",
    "fakenews['text'] = fakenews['text'].apply(cleaning)"
   ]
  },
  {
   "cell_type": "code",
   "execution_count": null,
   "id": "ecfd1ebf-7c86-4ad2-ba8e-e3981dbcd16c",
   "metadata": {},
   "outputs": [],
   "source": [
    "fakenews.head(20)"
   ]
  },
  {
   "cell_type": "code",
   "execution_count": null,
   "id": "c6b97fa2-e8bf-4071-9e6f-95a75bbe2620",
   "metadata": {},
   "outputs": [],
   "source": [
    "fakenews.info()"
   ]
  },
  {
   "cell_type": "code",
   "execution_count": null,
   "id": "1bef5e71-189a-4e65-a2d3-c459621b904e",
   "metadata": {},
   "outputs": [],
   "source": [
    "stop = set(stopwords.words('english'))\n",
    "\n",
    "fakenews['text'] = fakenews['text'].apply(lambda x: [item for item in x if item not in stop])\n"
   ]
  },
  {
   "cell_type": "code",
   "execution_count": null,
   "id": "d05e92ed-356a-4e42-a027-ad4a962df527",
   "metadata": {},
   "outputs": [],
   "source": [
    "fakenews['text'] = fakenews['text'].str.join(\" \")\n"
   ]
  },
  {
   "cell_type": "code",
   "execution_count": null,
   "id": "ea8d8071-107a-4495-8360-ba18810a818f",
   "metadata": {},
   "outputs": [],
   "source": [
    "fakenews.head(20)"
   ]
  },
  {
   "cell_type": "code",
   "execution_count": null,
   "id": "47b0ad35-ea62-4e28-8076-493e68fc8196",
   "metadata": {},
   "outputs": [],
   "source": [
    "fakenews.info()"
   ]
  },
  {
   "cell_type": "code",
   "execution_count": null,
   "id": "b5ade90a-3250-4f26-b178-8728e7c4ff04",
   "metadata": {},
   "outputs": [],
   "source": [
    "X = fakenews[\"text\"]\n",
    "y = fakenews[\"Target\"]"
   ]
  },
  {
   "cell_type": "code",
   "execution_count": null,
   "id": "0cab432c-a600-4861-b731-bd502e6039c5",
   "metadata": {},
   "outputs": [],
   "source": [
    "vectorizer = TfidfVectorizer()\n",
    "X = vectorizer.fit_transform(X)\n"
   ]
  },
  {
   "cell_type": "code",
   "execution_count": null,
   "id": "8ea05e43-c755-4bd1-93ad-a4a5e064c926",
   "metadata": {},
   "outputs": [],
   "source": [
    "#vectorizer.get_feature_names()"
   ]
  },
  {
   "cell_type": "code",
   "execution_count": null,
   "id": "75ac1a02-62ec-470e-a1a0-b412a6ad2135",
   "metadata": {},
   "outputs": [],
   "source": [
    "#vectorizer.vocabulary_.items()\n"
   ]
  },
  {
   "cell_type": "code",
   "execution_count": null,
   "id": "06ca3347-9ae8-4893-8f7d-fcf9cf45d860",
   "metadata": {},
   "outputs": [],
   "source": [
    "X_train, X_test, y_train, y_test = train_test_split(X, y,test_size=0.25, random_state=0)"
   ]
  },
  {
   "cell_type": "raw",
   "id": "b6d4fff5-49e7-4bcd-ae67-e8d4b90bb36d",
   "metadata": {},
   "source": [
    "#LogisticRegression"
   ]
  },
  {
   "cell_type": "code",
   "execution_count": null,
   "id": "1ca0d6d4-cce3-4c27-b239-2b0a3d0c016a",
   "metadata": {},
   "outputs": [],
   "source": [
    "lr = LogisticRegression()\n",
    "lr.fit(X_train,y_train)"
   ]
  },
  {
   "cell_type": "code",
   "execution_count": null,
   "id": "5877e0be-d32a-4d93-b4da-4da7228873ae",
   "metadata": {},
   "outputs": [],
   "source": [
    "lr_pred = lr.predict(X_test)\n",
    "metrics.accuracy_score(y_test, lr_pred)*100\n"
   ]
  },
  {
   "cell_type": "code",
   "execution_count": null,
   "id": "dba1d4cb-ea5a-4c90-ae54-5f7836e25fa3",
   "metadata": {},
   "outputs": [],
   "source": [
    "print(metrics.classification_report(y_test,pred))"
   ]
  },
  {
   "cell_type": "code",
   "execution_count": null,
   "id": "dcd72042-aae6-40d9-86fd-89566c102c10",
   "metadata": {},
   "outputs": [],
   "source": [
    "#MultinomialNB"
   ]
  },
  {
   "cell_type": "code",
   "execution_count": null,
   "id": "2f680a49-23a1-4961-9b26-d6144d39d0ce",
   "metadata": {},
   "outputs": [],
   "source": [
    "nb=MultinomialNB()\n",
    "nb.fit(X_train, y_train)"
   ]
  },
  {
   "cell_type": "code",
   "execution_count": null,
   "id": "b6b7b719-1950-4062-bcfd-1ee3c17b06e4",
   "metadata": {},
   "outputs": [],
   "source": [
    "nb_pred = nb.predict(X_test)\n",
    "metrics.accuracy_score(y_test, nb_pred)*100\n"
   ]
  },
  {
   "cell_type": "code",
   "execution_count": null,
   "id": "3864e060-9906-4bb7-85c0-e092c6cf2434",
   "metadata": {},
   "outputs": [],
   "source": [
    "print(metrics.classification_report(y_test,nb_pred))"
   ]
  },
  {
   "cell_type": "raw",
   "id": "c3eafc2e-6ced-42df-91b4-6cf5d326be10",
   "metadata": {},
   "source": [
    "#DecisionTree"
   ]
  },
  {
   "cell_type": "code",
   "execution_count": null,
   "id": "005e03ac-034f-458f-89fa-27e0974945af",
   "metadata": {},
   "outputs": [],
   "source": [
    "dt = DecisionTreeClassifier()\n",
    "dt.fit(X_train, y_train)"
   ]
  },
  {
   "cell_type": "code",
   "execution_count": null,
   "id": "e8823ac4-185d-4554-aeb1-325c58082021",
   "metadata": {},
   "outputs": [],
   "source": [
    "dt_pred = dt.predict(X_test)\n",
    "metrics.accuracy_score(y_test, dt_pred)*100"
   ]
  },
  {
   "cell_type": "code",
   "execution_count": null,
   "id": "341379c1-387b-4637-87ef-4bfb56d2005f",
   "metadata": {},
   "outputs": [],
   "source": [
    "print(metrics.classification_report(y_test,dt_pred))"
   ]
  },
  {
   "cell_type": "code",
   "execution_count": null,
   "id": "0bc7133e-856c-46bc-8182-cc712ebafc5f",
   "metadata": {},
   "outputs": [],
   "source": [
    "pickle.dump(lr,open('model.pkl','wb'))"
   ]
  },
  {
   "cell_type": "code",
   "execution_count": null,
   "id": "933ef8ee-3234-490a-bc14-f0bee1ffee94",
   "metadata": {},
   "outputs": [],
   "source": []
  }
 ],
 "metadata": {
  "kernelspec": {
   "display_name": "Python 3 (ipykernel)",
   "language": "python",
   "name": "python3"
  },
  "language_info": {
   "codemirror_mode": {
    "name": "ipython",
    "version": 3
   },
   "file_extension": ".py",
   "mimetype": "text/x-python",
   "name": "python",
   "nbconvert_exporter": "python",
   "pygments_lexer": "ipython3",
   "version": "3.8.13"
  }
 },
 "nbformat": 4,
 "nbformat_minor": 5
}
