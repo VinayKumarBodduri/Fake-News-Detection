{
 "cells": [
  {
   "cell_type": "raw",
   "id": "2d61d131-8738-4f29-afd5-cb358810ce19",
   "metadata": {},
   "source": [
    "Fake News Detection"
   ]
  },
  {
   "cell_type": "code",
   "execution_count": 40,
   "id": "68443428-9f33-4bbb-a967-8444588d9d41",
   "metadata": {},
   "outputs": [],
   "source": [
    "import pandas as pd\n",
    "import numpy as np\n",
    "import seaborn as sns\n",
    "import re\n",
    "import matplotlib.pyplot as plt\n",
    "from nltk.corpus import stopwords\n",
    "from sklearn.model_selection import train_test_split\n",
    "from sklearn.feature_extraction.text import TfidfVectorizer\n",
    "from sklearn.linear_model import LogisticRegression\n",
    "from sklearn.naive_bayes import MultinomialNB\n",
    "from sklearn.tree import DecisionTreeClassifier\n",
    "from sklearn import metrics"
   ]
  },
  {
   "cell_type": "code",
   "execution_count": 128,
   "id": "c9c7a56e-84fd-4db5-94e5-6c2e9674d2c1",
   "metadata": {},
   "outputs": [],
   "source": [
    "fake = pd.read_csv(\"Data\\Fake.csv\")\n",
    "real = pd.read_csv(\"Data\\True.csv\")"
   ]
  },
  {
   "cell_type": "code",
   "execution_count": 129,
   "id": "4211d35a-2bf4-4f1a-87bf-1b431c7b93ae",
   "metadata": {},
   "outputs": [
    {
     "data": {
      "text/html": [
       "<div>\n",
       "<style scoped>\n",
       "    .dataframe tbody tr th:only-of-type {\n",
       "        vertical-align: middle;\n",
       "    }\n",
       "\n",
       "    .dataframe tbody tr th {\n",
       "        vertical-align: top;\n",
       "    }\n",
       "\n",
       "    .dataframe thead th {\n",
       "        text-align: right;\n",
       "    }\n",
       "</style>\n",
       "<table border=\"1\" class=\"dataframe\">\n",
       "  <thead>\n",
       "    <tr style=\"text-align: right;\">\n",
       "      <th></th>\n",
       "      <th>title</th>\n",
       "      <th>text</th>\n",
       "      <th>subject</th>\n",
       "      <th>date</th>\n",
       "    </tr>\n",
       "  </thead>\n",
       "  <tbody>\n",
       "    <tr>\n",
       "      <th>0</th>\n",
       "      <td>Donald Trump Sends Out Embarrassing New Year’...</td>\n",
       "      <td>Donald Trump just couldn t wish all Americans ...</td>\n",
       "      <td>News</td>\n",
       "      <td>December 31, 2017</td>\n",
       "    </tr>\n",
       "    <tr>\n",
       "      <th>1</th>\n",
       "      <td>Drunk Bragging Trump Staffer Started Russian ...</td>\n",
       "      <td>House Intelligence Committee Chairman Devin Nu...</td>\n",
       "      <td>News</td>\n",
       "      <td>December 31, 2017</td>\n",
       "    </tr>\n",
       "    <tr>\n",
       "      <th>2</th>\n",
       "      <td>Sheriff David Clarke Becomes An Internet Joke...</td>\n",
       "      <td>On Friday, it was revealed that former Milwauk...</td>\n",
       "      <td>News</td>\n",
       "      <td>December 30, 2017</td>\n",
       "    </tr>\n",
       "    <tr>\n",
       "      <th>3</th>\n",
       "      <td>Trump Is So Obsessed He Even Has Obama’s Name...</td>\n",
       "      <td>On Christmas day, Donald Trump announced that ...</td>\n",
       "      <td>News</td>\n",
       "      <td>December 29, 2017</td>\n",
       "    </tr>\n",
       "    <tr>\n",
       "      <th>4</th>\n",
       "      <td>Pope Francis Just Called Out Donald Trump Dur...</td>\n",
       "      <td>Pope Francis used his annual Christmas Day mes...</td>\n",
       "      <td>News</td>\n",
       "      <td>December 25, 2017</td>\n",
       "    </tr>\n",
       "  </tbody>\n",
       "</table>\n",
       "</div>"
      ],
      "text/plain": [
       "                                               title  \\\n",
       "0   Donald Trump Sends Out Embarrassing New Year’...   \n",
       "1   Drunk Bragging Trump Staffer Started Russian ...   \n",
       "2   Sheriff David Clarke Becomes An Internet Joke...   \n",
       "3   Trump Is So Obsessed He Even Has Obama’s Name...   \n",
       "4   Pope Francis Just Called Out Donald Trump Dur...   \n",
       "\n",
       "                                                text subject  \\\n",
       "0  Donald Trump just couldn t wish all Americans ...    News   \n",
       "1  House Intelligence Committee Chairman Devin Nu...    News   \n",
       "2  On Friday, it was revealed that former Milwauk...    News   \n",
       "3  On Christmas day, Donald Trump announced that ...    News   \n",
       "4  Pope Francis used his annual Christmas Day mes...    News   \n",
       "\n",
       "                date  \n",
       "0  December 31, 2017  \n",
       "1  December 31, 2017  \n",
       "2  December 30, 2017  \n",
       "3  December 29, 2017  \n",
       "4  December 25, 2017  "
      ]
     },
     "execution_count": 129,
     "metadata": {},
     "output_type": "execute_result"
    }
   ],
   "source": [
    "fake.head()"
   ]
  },
  {
   "cell_type": "code",
   "execution_count": 130,
   "id": "8e78bf9c-6f89-454b-9018-c67d31969dcf",
   "metadata": {},
   "outputs": [
    {
     "data": {
      "text/html": [
       "<div>\n",
       "<style scoped>\n",
       "    .dataframe tbody tr th:only-of-type {\n",
       "        vertical-align: middle;\n",
       "    }\n",
       "\n",
       "    .dataframe tbody tr th {\n",
       "        vertical-align: top;\n",
       "    }\n",
       "\n",
       "    .dataframe thead th {\n",
       "        text-align: right;\n",
       "    }\n",
       "</style>\n",
       "<table border=\"1\" class=\"dataframe\">\n",
       "  <thead>\n",
       "    <tr style=\"text-align: right;\">\n",
       "      <th></th>\n",
       "      <th>title</th>\n",
       "      <th>text</th>\n",
       "      <th>subject</th>\n",
       "      <th>date</th>\n",
       "    </tr>\n",
       "  </thead>\n",
       "  <tbody>\n",
       "    <tr>\n",
       "      <th>0</th>\n",
       "      <td>As U.S. budget fight looms, Republicans flip t...</td>\n",
       "      <td>WASHINGTON (Reuters) - The head of a conservat...</td>\n",
       "      <td>politicsNews</td>\n",
       "      <td>December 31, 2017</td>\n",
       "    </tr>\n",
       "    <tr>\n",
       "      <th>1</th>\n",
       "      <td>U.S. military to accept transgender recruits o...</td>\n",
       "      <td>WASHINGTON (Reuters) - Transgender people will...</td>\n",
       "      <td>politicsNews</td>\n",
       "      <td>December 29, 2017</td>\n",
       "    </tr>\n",
       "    <tr>\n",
       "      <th>2</th>\n",
       "      <td>Senior U.S. Republican senator: 'Let Mr. Muell...</td>\n",
       "      <td>WASHINGTON (Reuters) - The special counsel inv...</td>\n",
       "      <td>politicsNews</td>\n",
       "      <td>December 31, 2017</td>\n",
       "    </tr>\n",
       "    <tr>\n",
       "      <th>3</th>\n",
       "      <td>FBI Russia probe helped by Australian diplomat...</td>\n",
       "      <td>WASHINGTON (Reuters) - Trump campaign adviser ...</td>\n",
       "      <td>politicsNews</td>\n",
       "      <td>December 30, 2017</td>\n",
       "    </tr>\n",
       "    <tr>\n",
       "      <th>4</th>\n",
       "      <td>Trump wants Postal Service to charge 'much mor...</td>\n",
       "      <td>SEATTLE/WASHINGTON (Reuters) - President Donal...</td>\n",
       "      <td>politicsNews</td>\n",
       "      <td>December 29, 2017</td>\n",
       "    </tr>\n",
       "  </tbody>\n",
       "</table>\n",
       "</div>"
      ],
      "text/plain": [
       "                                               title  \\\n",
       "0  As U.S. budget fight looms, Republicans flip t...   \n",
       "1  U.S. military to accept transgender recruits o...   \n",
       "2  Senior U.S. Republican senator: 'Let Mr. Muell...   \n",
       "3  FBI Russia probe helped by Australian diplomat...   \n",
       "4  Trump wants Postal Service to charge 'much mor...   \n",
       "\n",
       "                                                text       subject  \\\n",
       "0  WASHINGTON (Reuters) - The head of a conservat...  politicsNews   \n",
       "1  WASHINGTON (Reuters) - Transgender people will...  politicsNews   \n",
       "2  WASHINGTON (Reuters) - The special counsel inv...  politicsNews   \n",
       "3  WASHINGTON (Reuters) - Trump campaign adviser ...  politicsNews   \n",
       "4  SEATTLE/WASHINGTON (Reuters) - President Donal...  politicsNews   \n",
       "\n",
       "                 date  \n",
       "0  December 31, 2017   \n",
       "1  December 29, 2017   \n",
       "2  December 31, 2017   \n",
       "3  December 30, 2017   \n",
       "4  December 29, 2017   "
      ]
     },
     "execution_count": 130,
     "metadata": {},
     "output_type": "execute_result"
    }
   ],
   "source": [
    "real.head()"
   ]
  },
  {
   "cell_type": "code",
   "execution_count": 131,
   "id": "fcae1402-e12b-4620-9d3e-9530b1c80943",
   "metadata": {},
   "outputs": [
    {
     "data": {
      "text/plain": [
       "(23481, 4)"
      ]
     },
     "execution_count": 131,
     "metadata": {},
     "output_type": "execute_result"
    }
   ],
   "source": [
    "fake.shape"
   ]
  },
  {
   "cell_type": "code",
   "execution_count": 132,
   "id": "4c811c99-0635-4c14-8821-90c1939b0c37",
   "metadata": {},
   "outputs": [
    {
     "data": {
      "text/plain": [
       "(21417, 4)"
      ]
     },
     "execution_count": 132,
     "metadata": {},
     "output_type": "execute_result"
    }
   ],
   "source": [
    "real.shape"
   ]
  },
  {
   "cell_type": "code",
   "execution_count": 133,
   "id": "2a07136f-a024-4659-a258-390116e3f684",
   "metadata": {},
   "outputs": [],
   "source": [
    "fake[\"Target\"] = 0"
   ]
  },
  {
   "cell_type": "code",
   "execution_count": 134,
   "id": "94ee7961-aa58-4845-8eba-567dae6e4ad6",
   "metadata": {},
   "outputs": [],
   "source": [
    "real[\"Target\"] = 1"
   ]
  },
  {
   "cell_type": "code",
   "execution_count": 227,
   "id": "1de439fa-1904-4d53-87a0-e66ec26b9821",
   "metadata": {},
   "outputs": [],
   "source": [
    "fakenews = pd.concat([fake,real])"
   ]
  },
  {
   "cell_type": "code",
   "execution_count": 228,
   "id": "c0a422c1-2cd8-483d-b31b-13d2c544e2b2",
   "metadata": {},
   "outputs": [
    {
     "data": {
      "text/html": [
       "<div>\n",
       "<style scoped>\n",
       "    .dataframe tbody tr th:only-of-type {\n",
       "        vertical-align: middle;\n",
       "    }\n",
       "\n",
       "    .dataframe tbody tr th {\n",
       "        vertical-align: top;\n",
       "    }\n",
       "\n",
       "    .dataframe thead th {\n",
       "        text-align: right;\n",
       "    }\n",
       "</style>\n",
       "<table border=\"1\" class=\"dataframe\">\n",
       "  <thead>\n",
       "    <tr style=\"text-align: right;\">\n",
       "      <th></th>\n",
       "      <th>title</th>\n",
       "      <th>text</th>\n",
       "      <th>subject</th>\n",
       "      <th>date</th>\n",
       "      <th>Target</th>\n",
       "    </tr>\n",
       "  </thead>\n",
       "  <tbody>\n",
       "    <tr>\n",
       "      <th>0</th>\n",
       "      <td>Donald Trump Sends Out Embarrassing New Year’...</td>\n",
       "      <td>Donald Trump just couldn t wish all Americans ...</td>\n",
       "      <td>News</td>\n",
       "      <td>December 31, 2017</td>\n",
       "      <td>0</td>\n",
       "    </tr>\n",
       "    <tr>\n",
       "      <th>1</th>\n",
       "      <td>Drunk Bragging Trump Staffer Started Russian ...</td>\n",
       "      <td>House Intelligence Committee Chairman Devin Nu...</td>\n",
       "      <td>News</td>\n",
       "      <td>December 31, 2017</td>\n",
       "      <td>0</td>\n",
       "    </tr>\n",
       "    <tr>\n",
       "      <th>2</th>\n",
       "      <td>Sheriff David Clarke Becomes An Internet Joke...</td>\n",
       "      <td>On Friday, it was revealed that former Milwauk...</td>\n",
       "      <td>News</td>\n",
       "      <td>December 30, 2017</td>\n",
       "      <td>0</td>\n",
       "    </tr>\n",
       "    <tr>\n",
       "      <th>3</th>\n",
       "      <td>Trump Is So Obsessed He Even Has Obama’s Name...</td>\n",
       "      <td>On Christmas day, Donald Trump announced that ...</td>\n",
       "      <td>News</td>\n",
       "      <td>December 29, 2017</td>\n",
       "      <td>0</td>\n",
       "    </tr>\n",
       "    <tr>\n",
       "      <th>4</th>\n",
       "      <td>Pope Francis Just Called Out Donald Trump Dur...</td>\n",
       "      <td>Pope Francis used his annual Christmas Day mes...</td>\n",
       "      <td>News</td>\n",
       "      <td>December 25, 2017</td>\n",
       "      <td>0</td>\n",
       "    </tr>\n",
       "  </tbody>\n",
       "</table>\n",
       "</div>"
      ],
      "text/plain": [
       "                                               title  \\\n",
       "0   Donald Trump Sends Out Embarrassing New Year’...   \n",
       "1   Drunk Bragging Trump Staffer Started Russian ...   \n",
       "2   Sheriff David Clarke Becomes An Internet Joke...   \n",
       "3   Trump Is So Obsessed He Even Has Obama’s Name...   \n",
       "4   Pope Francis Just Called Out Donald Trump Dur...   \n",
       "\n",
       "                                                text subject  \\\n",
       "0  Donald Trump just couldn t wish all Americans ...    News   \n",
       "1  House Intelligence Committee Chairman Devin Nu...    News   \n",
       "2  On Friday, it was revealed that former Milwauk...    News   \n",
       "3  On Christmas day, Donald Trump announced that ...    News   \n",
       "4  Pope Francis used his annual Christmas Day mes...    News   \n",
       "\n",
       "                date  Target  \n",
       "0  December 31, 2017       0  \n",
       "1  December 31, 2017       0  \n",
       "2  December 30, 2017       0  \n",
       "3  December 29, 2017       0  \n",
       "4  December 25, 2017       0  "
      ]
     },
     "execution_count": 228,
     "metadata": {},
     "output_type": "execute_result"
    }
   ],
   "source": [
    "fakenews.head()\n"
   ]
  },
  {
   "cell_type": "code",
   "execution_count": 229,
   "id": "b7a4c988-9d7f-4467-9470-ba9b6568bfe2",
   "metadata": {},
   "outputs": [
    {
     "data": {
      "text/plain": [
       "(44898, 5)"
      ]
     },
     "execution_count": 229,
     "metadata": {},
     "output_type": "execute_result"
    }
   ],
   "source": [
    "fakenews.shape"
   ]
  },
  {
   "cell_type": "code",
   "execution_count": 230,
   "id": "844e8f98-dca1-4d29-a406-02aff70f730b",
   "metadata": {},
   "outputs": [],
   "source": [
    "fakenews = fakenews.sample(n = 44898, random_state=42).reset_index(drop=True)"
   ]
  },
  {
   "cell_type": "code",
   "execution_count": 231,
   "id": "23e8cd5e-2a2b-4fa2-bf65-2da1484c573f",
   "metadata": {},
   "outputs": [
    {
     "data": {
      "text/html": [
       "<div>\n",
       "<style scoped>\n",
       "    .dataframe tbody tr th:only-of-type {\n",
       "        vertical-align: middle;\n",
       "    }\n",
       "\n",
       "    .dataframe tbody tr th {\n",
       "        vertical-align: top;\n",
       "    }\n",
       "\n",
       "    .dataframe thead th {\n",
       "        text-align: right;\n",
       "    }\n",
       "</style>\n",
       "<table border=\"1\" class=\"dataframe\">\n",
       "  <thead>\n",
       "    <tr style=\"text-align: right;\">\n",
       "      <th></th>\n",
       "      <th>title</th>\n",
       "      <th>text</th>\n",
       "      <th>subject</th>\n",
       "      <th>date</th>\n",
       "      <th>Target</th>\n",
       "    </tr>\n",
       "  </thead>\n",
       "  <tbody>\n",
       "    <tr>\n",
       "      <th>0</th>\n",
       "      <td>Ben Stein Calls Out 9th Circuit Court: Committ...</td>\n",
       "      <td>21st Century Wire says Ben Stein, reputable pr...</td>\n",
       "      <td>US_News</td>\n",
       "      <td>February 13, 2017</td>\n",
       "      <td>0</td>\n",
       "    </tr>\n",
       "    <tr>\n",
       "      <th>1</th>\n",
       "      <td>Trump drops Steve Bannon from National Securit...</td>\n",
       "      <td>WASHINGTON (Reuters) - U.S. President Donald T...</td>\n",
       "      <td>politicsNews</td>\n",
       "      <td>April 5, 2017</td>\n",
       "      <td>1</td>\n",
       "    </tr>\n",
       "    <tr>\n",
       "      <th>2</th>\n",
       "      <td>Puerto Rico expects U.S. to lift Jones Act shi...</td>\n",
       "      <td>(Reuters) - Puerto Rico Governor Ricardo Rosse...</td>\n",
       "      <td>politicsNews</td>\n",
       "      <td>September 27, 2017</td>\n",
       "      <td>1</td>\n",
       "    </tr>\n",
       "    <tr>\n",
       "      <th>3</th>\n",
       "      <td>OOPS: Trump Just Accidentally Confirmed He Le...</td>\n",
       "      <td>On Monday, Donald Trump once again embarrassed...</td>\n",
       "      <td>News</td>\n",
       "      <td>May 22, 2017</td>\n",
       "      <td>0</td>\n",
       "    </tr>\n",
       "    <tr>\n",
       "      <th>4</th>\n",
       "      <td>Donald Trump heads for Scotland to reopen a go...</td>\n",
       "      <td>GLASGOW, Scotland (Reuters) - Most U.S. presid...</td>\n",
       "      <td>politicsNews</td>\n",
       "      <td>June 24, 2016</td>\n",
       "      <td>1</td>\n",
       "    </tr>\n",
       "    <tr>\n",
       "      <th>5</th>\n",
       "      <td>Paul Ryan Responds To Dem’s Sit-In On Gun Con...</td>\n",
       "      <td>On Wednesday, Democrats took a powerful stance...</td>\n",
       "      <td>News</td>\n",
       "      <td>June 22, 2016</td>\n",
       "      <td>0</td>\n",
       "    </tr>\n",
       "    <tr>\n",
       "      <th>6</th>\n",
       "      <td>AWESOME! DIAMOND AND SILK Rip Into The Press: ...</td>\n",
       "      <td>President Trump s rally in FL on Saturday was ...</td>\n",
       "      <td>Government News</td>\n",
       "      <td>Feb 19, 2017</td>\n",
       "      <td>0</td>\n",
       "    </tr>\n",
       "    <tr>\n",
       "      <th>7</th>\n",
       "      <td>STAND UP AND CHEER! UKIP Party Leader SLAMS Ge...</td>\n",
       "      <td>He s been Europe s version of the outspoken Te...</td>\n",
       "      <td>left-news</td>\n",
       "      <td>Mar 8, 2016</td>\n",
       "      <td>0</td>\n",
       "    </tr>\n",
       "    <tr>\n",
       "      <th>8</th>\n",
       "      <td>North Korea shows no sign it is serious about ...</td>\n",
       "      <td>WASHINGTON (Reuters) - The State Department sa...</td>\n",
       "      <td>worldnews</td>\n",
       "      <td>December 13, 2017</td>\n",
       "      <td>1</td>\n",
       "    </tr>\n",
       "    <tr>\n",
       "      <th>9</th>\n",
       "      <td>Trump signals willingness to raise U.S. minimu...</td>\n",
       "      <td>(This version of the story corrects the figur...</td>\n",
       "      <td>politicsNews</td>\n",
       "      <td>May 4, 2016</td>\n",
       "      <td>1</td>\n",
       "    </tr>\n",
       "  </tbody>\n",
       "</table>\n",
       "</div>"
      ],
      "text/plain": [
       "                                               title  \\\n",
       "0  Ben Stein Calls Out 9th Circuit Court: Committ...   \n",
       "1  Trump drops Steve Bannon from National Securit...   \n",
       "2  Puerto Rico expects U.S. to lift Jones Act shi...   \n",
       "3   OOPS: Trump Just Accidentally Confirmed He Le...   \n",
       "4  Donald Trump heads for Scotland to reopen a go...   \n",
       "5   Paul Ryan Responds To Dem’s Sit-In On Gun Con...   \n",
       "6  AWESOME! DIAMOND AND SILK Rip Into The Press: ...   \n",
       "7  STAND UP AND CHEER! UKIP Party Leader SLAMS Ge...   \n",
       "8  North Korea shows no sign it is serious about ...   \n",
       "9  Trump signals willingness to raise U.S. minimu...   \n",
       "\n",
       "                                                text          subject  \\\n",
       "0  21st Century Wire says Ben Stein, reputable pr...          US_News   \n",
       "1  WASHINGTON (Reuters) - U.S. President Donald T...     politicsNews   \n",
       "2  (Reuters) - Puerto Rico Governor Ricardo Rosse...     politicsNews   \n",
       "3  On Monday, Donald Trump once again embarrassed...             News   \n",
       "4  GLASGOW, Scotland (Reuters) - Most U.S. presid...     politicsNews   \n",
       "5  On Wednesday, Democrats took a powerful stance...             News   \n",
       "6  President Trump s rally in FL on Saturday was ...  Government News   \n",
       "7  He s been Europe s version of the outspoken Te...        left-news   \n",
       "8  WASHINGTON (Reuters) - The State Department sa...        worldnews   \n",
       "9   (This version of the story corrects the figur...     politicsNews   \n",
       "\n",
       "                  date  Target  \n",
       "0    February 13, 2017       0  \n",
       "1       April 5, 2017        1  \n",
       "2  September 27, 2017        1  \n",
       "3         May 22, 2017       0  \n",
       "4       June 24, 2016        1  \n",
       "5        June 22, 2016       0  \n",
       "6         Feb 19, 2017       0  \n",
       "7          Mar 8, 2016       0  \n",
       "8   December 13, 2017        1  \n",
       "9         May 4, 2016        1  "
      ]
     },
     "execution_count": 231,
     "metadata": {},
     "output_type": "execute_result"
    }
   ],
   "source": [
    "fakenews.head(10)"
   ]
  },
  {
   "cell_type": "code",
   "execution_count": 232,
   "id": "809544a5-a8d9-4b44-a18a-95e15c5e242f",
   "metadata": {},
   "outputs": [
    {
     "data": {
      "text/plain": [
       "(44898, 5)"
      ]
     },
     "execution_count": 232,
     "metadata": {},
     "output_type": "execute_result"
    }
   ],
   "source": [
    "fakenews.shape"
   ]
  },
  {
   "cell_type": "code",
   "execution_count": 233,
   "id": "2927abf8-7e38-4291-8991-c1a870c46d89",
   "metadata": {},
   "outputs": [],
   "source": [
    "fakenews.drop_duplicates(inplace=True)"
   ]
  },
  {
   "cell_type": "code",
   "execution_count": 234,
   "id": "8e232fef-7904-4a9e-af8c-0e7e9d371781",
   "metadata": {},
   "outputs": [
    {
     "data": {
      "text/plain": [
       "(44689, 5)"
      ]
     },
     "execution_count": 234,
     "metadata": {},
     "output_type": "execute_result"
    }
   ],
   "source": [
    "fakenews.shape"
   ]
  },
  {
   "cell_type": "code",
   "execution_count": 235,
   "id": "6a8cbbea-005e-4c8a-a18b-df3461a1f197",
   "metadata": {},
   "outputs": [
    {
     "data": {
      "text/plain": [
       "0    23478\n",
       "1    21211\n",
       "Name: Target, dtype: int64"
      ]
     },
     "execution_count": 235,
     "metadata": {},
     "output_type": "execute_result"
    }
   ],
   "source": [
    "fakenews[\"Target\"].value_counts()"
   ]
  },
  {
   "cell_type": "code",
   "execution_count": 236,
   "id": "bc16272a-0d87-4a65-8ba0-dbd73ccd69ab",
   "metadata": {},
   "outputs": [
    {
     "data": {
      "text/plain": [
       "title      0\n",
       "text       0\n",
       "subject    0\n",
       "date       0\n",
       "Target     0\n",
       "dtype: int64"
      ]
     },
     "execution_count": 236,
     "metadata": {},
     "output_type": "execute_result"
    }
   ],
   "source": [
    "fakenews.isna().sum()"
   ]
  },
  {
   "cell_type": "code",
   "execution_count": 237,
   "id": "42c0b916-173b-43e2-beda-be079233ef36",
   "metadata": {},
   "outputs": [
    {
     "data": {
      "text/plain": [
       "<AxesSubplot:xlabel='Target', ylabel='count'>"
      ]
     },
     "execution_count": 237,
     "metadata": {},
     "output_type": "execute_result"
    },
    {
     "data": {
      "image/png": "[encoded data removed]",
      "text/plain": [
       "<Figure size 640x480 with 1 Axes>"
      ]
     },
     "metadata": {},
     "output_type": "display_data"
    }
   ],
   "source": [
    "sns.countplot(x=\"Target\", data = fakenews)"
   ]
  },
  {
   "cell_type": "code",
   "execution_count": 238,
   "id": "20ece2fe-3ea4-4026-98c1-129fce1276d4",
   "metadata": {},
   "outputs": [
    {
     "data": {
      "text/plain": [
       "(array([0, 1, 2, 3, 4, 5, 6, 7]),\n",
       " [Text(0, 0, 'US_News'),\n",
       "  Text(1, 0, 'politicsNews'),\n",
       "  Text(2, 0, 'News'),\n",
       "  Text(3, 0, 'Government News'),\n",
       "  Text(4, 0, 'left-news'),\n",
       "  Text(5, 0, 'worldnews'),\n",
       "  Text(6, 0, 'politics'),\n",
       "  Text(7, 0, 'Middle-east')])"
      ]
     },
     "execution_count": 238,
     "metadata": {},
     "output_type": "execute_result"
    },
    {
     "data": {
      "image/png": "[encoded data removed]",
      "text/plain": [
       "<Figure size 1500x1000 with 1 Axes>"
      ]
     },
     "metadata": {},
     "output_type": "display_data"
    }
   ],
   "source": [
    "plt.figure(figsize=(15,10))\n",
    "sns.countplot(x=\"subject\" ,data = fakenews)\n",
    "plt.xticks(rotation=90)"
   ]
  },
  {
   "cell_type": "code",
   "execution_count": 239,
   "id": "22712e75-5502-4c06-ae29-bcd102a01ac3",
   "metadata": {},
   "outputs": [
    {
     "name": "stdout",
     "output_type": "stream",
     "text": [
      "<class 'pandas.core.frame.DataFrame'>\n",
      "Int64Index: 44689 entries, 0 to 44897\n",
      "Data columns (total 5 columns):\n",
      " #   Column   Non-Null Count  Dtype \n",
      "---  ------   --------------  ----- \n",
      " 0   title    44689 non-null  object\n",
      " 1   text     44689 non-null  object\n",
      " 2   subject  44689 non-null  object\n",
      " 3   date     44689 non-null  object\n",
      " 4   Target   44689 non-null  int64 \n",
      "dtypes: int64(1), object(4)\n",
      "memory usage: 2.0+ MB\n"
     ]
    }
   ],
   "source": [
    "fakenews.info()"
   ]
  },
  {
   "cell_type": "code",
   "execution_count": 240,
   "id": "604143d5-a206-4025-940b-378ede2c88eb",
   "metadata": {},
   "outputs": [],
   "source": [
    "fakenews = fakenews.drop([\"title\",\"subject\",\"date\"],axis=1)"
   ]
  },
  {
   "cell_type": "code",
   "execution_count": 241,
   "id": "e4ed7466-41cd-4bcb-804e-e936b3cc3310",
   "metadata": {},
   "outputs": [
    {
     "data": {
      "text/html": [
       "<div>\n",
       "<style scoped>\n",
       "    .dataframe tbody tr th:only-of-type {\n",
       "        vertical-align: middle;\n",
       "    }\n",
       "\n",
       "    .dataframe tbody tr th {\n",
       "        vertical-align: top;\n",
       "    }\n",
       "\n",
       "    .dataframe thead th {\n",
       "        text-align: right;\n",
       "    }\n",
       "</style>\n",
       "<table border=\"1\" class=\"dataframe\">\n",
       "  <thead>\n",
       "    <tr style=\"text-align: right;\">\n",
       "      <th></th>\n",
       "      <th>text</th>\n",
       "      <th>Target</th>\n",
       "    </tr>\n",
       "  </thead>\n",
       "  <tbody>\n",
       "    <tr>\n",
       "      <th>0</th>\n",
       "      <td>21st Century Wire says Ben Stein, reputable pr...</td>\n",
       "      <td>0</td>\n",
       "    </tr>\n",
       "    <tr>\n",
       "      <th>1</th>\n",
       "      <td>WASHINGTON (Reuters) - U.S. President Donald T...</td>\n",
       "      <td>1</td>\n",
       "    </tr>\n",
       "    <tr>\n",
       "      <th>2</th>\n",
       "      <td>(Reuters) - Puerto Rico Governor Ricardo Rosse...</td>\n",
       "      <td>1</td>\n",
       "    </tr>\n",
       "    <tr>\n",
       "      <th>3</th>\n",
       "      <td>On Monday, Donald Trump once again embarrassed...</td>\n",
       "      <td>0</td>\n",
       "    </tr>\n",
       "    <tr>\n",
       "      <th>4</th>\n",
       "      <td>GLASGOW, Scotland (Reuters) - Most U.S. presid...</td>\n",
       "      <td>1</td>\n",
       "    </tr>\n",
       "    <tr>\n",
       "      <th>5</th>\n",
       "      <td>On Wednesday, Democrats took a powerful stance...</td>\n",
       "      <td>0</td>\n",
       "    </tr>\n",
       "    <tr>\n",
       "      <th>6</th>\n",
       "      <td>President Trump s rally in FL on Saturday was ...</td>\n",
       "      <td>0</td>\n",
       "    </tr>\n",
       "    <tr>\n",
       "      <th>7</th>\n",
       "      <td>He s been Europe s version of the outspoken Te...</td>\n",
       "      <td>0</td>\n",
       "    </tr>\n",
       "    <tr>\n",
       "      <th>8</th>\n",
       "      <td>WASHINGTON (Reuters) - The State Department sa...</td>\n",
       "      <td>1</td>\n",
       "    </tr>\n",
       "    <tr>\n",
       "      <th>9</th>\n",
       "      <td>(This version of the story corrects the figur...</td>\n",
       "      <td>1</td>\n",
       "    </tr>\n",
       "  </tbody>\n",
       "</table>\n",
       "</div>"
      ],
      "text/plain": [
       "                                                text  Target\n",
       "0  21st Century Wire says Ben Stein, reputable pr...       0\n",
       "1  WASHINGTON (Reuters) - U.S. President Donald T...       1\n",
       "2  (Reuters) - Puerto Rico Governor Ricardo Rosse...       1\n",
       "3  On Monday, Donald Trump once again embarrassed...       0\n",
       "4  GLASGOW, Scotland (Reuters) - Most U.S. presid...       1\n",
       "5  On Wednesday, Democrats took a powerful stance...       0\n",
       "6  President Trump s rally in FL on Saturday was ...       0\n",
       "7  He s been Europe s version of the outspoken Te...       0\n",
       "8  WASHINGTON (Reuters) - The State Department sa...       1\n",
       "9   (This version of the story corrects the figur...       1"
      ]
     },
     "execution_count": 241,
     "metadata": {},
     "output_type": "execute_result"
    }
   ],
   "source": [
    "fakenews.head(10)"
   ]
  },
  {
   "cell_type": "code",
   "execution_count": 242,
   "id": "d931500c-4c07-480d-8649-61e5d547cdbc",
   "metadata": {},
   "outputs": [],
   "source": [
    "def cleaning(text):\n",
    "    text = text.lower()\n",
    "    text = re.sub('[^a-zA-Z]', ' ' ,text)\n",
    "    text = text.split()\n",
    "    \n",
    "    return text\n",
    "fakenews['text'] = fakenews['text'].apply(cleaning)"
   ]
  },
  {
   "cell_type": "code",
   "execution_count": 243,
   "id": "ecfd1ebf-7c86-4ad2-ba8e-e3981dbcd16c",
   "metadata": {},
   "outputs": [
    {
     "data": {
      "text/html": [
       "<div>\n",
       "<style scoped>\n",
       "    .dataframe tbody tr th:only-of-type {\n",
       "        vertical-align: middle;\n",
       "    }\n",
       "\n",
       "    .dataframe tbody tr th {\n",
       "        vertical-align: top;\n",
       "    }\n",
       "\n",
       "    .dataframe thead th {\n",
       "        text-align: right;\n",
       "    }\n",
       "</style>\n",
       "<table border=\"1\" class=\"dataframe\">\n",
       "  <thead>\n",
       "    <tr style=\"text-align: right;\">\n",
       "      <th></th>\n",
       "      <th>text</th>\n",
       "      <th>Target</th>\n",
       "    </tr>\n",
       "  </thead>\n",
       "  <tbody>\n",
       "    <tr>\n",
       "      <th>0</th>\n",
       "      <td>[st, century, wire, says, ben, stein, reputabl...</td>\n",
       "      <td>0</td>\n",
       "    </tr>\n",
       "    <tr>\n",
       "      <th>1</th>\n",
       "      <td>[washington, reuters, u, s, president, donald,...</td>\n",
       "      <td>1</td>\n",
       "    </tr>\n",
       "    <tr>\n",
       "      <th>2</th>\n",
       "      <td>[reuters, puerto, rico, governor, ricardo, ros...</td>\n",
       "      <td>1</td>\n",
       "    </tr>\n",
       "    <tr>\n",
       "      <th>3</th>\n",
       "      <td>[on, monday, donald, trump, once, again, embar...</td>\n",
       "      <td>0</td>\n",
       "    </tr>\n",
       "    <tr>\n",
       "      <th>4</th>\n",
       "      <td>[glasgow, scotland, reuters, most, u, s, presi...</td>\n",
       "      <td>1</td>\n",
       "    </tr>\n",
       "    <tr>\n",
       "      <th>5</th>\n",
       "      <td>[on, wednesday, democrats, took, a, powerful, ...</td>\n",
       "      <td>0</td>\n",
       "    </tr>\n",
       "    <tr>\n",
       "      <th>6</th>\n",
       "      <td>[president, trump, s, rally, in, fl, on, satur...</td>\n",
       "      <td>0</td>\n",
       "    </tr>\n",
       "    <tr>\n",
       "      <th>7</th>\n",
       "      <td>[he, s, been, europe, s, version, of, the, out...</td>\n",
       "      <td>0</td>\n",
       "    </tr>\n",
       "    <tr>\n",
       "      <th>8</th>\n",
       "      <td>[washington, reuters, the, state, department, ...</td>\n",
       "      <td>1</td>\n",
       "    </tr>\n",
       "    <tr>\n",
       "      <th>9</th>\n",
       "      <td>[this, version, of, the, story, corrects, the,...</td>\n",
       "      <td>1</td>\n",
       "    </tr>\n",
       "    <tr>\n",
       "      <th>10</th>\n",
       "      <td>[washington, reuters, new, jersey, governor, c...</td>\n",
       "      <td>1</td>\n",
       "    </tr>\n",
       "    <tr>\n",
       "      <th>11</th>\n",
       "      <td>[]</td>\n",
       "      <td>0</td>\n",
       "    </tr>\n",
       "    <tr>\n",
       "      <th>12</th>\n",
       "      <td>[paris, reuters, france, and, germany, agree, ...</td>\n",
       "      <td>1</td>\n",
       "    </tr>\n",
       "    <tr>\n",
       "      <th>13</th>\n",
       "      <td>[brussels, reuters, martin, selmayr, a, top, a...</td>\n",
       "      <td>1</td>\n",
       "    </tr>\n",
       "    <tr>\n",
       "      <th>14</th>\n",
       "      <td>[before, you, blame, trump, for, not, being, c...</td>\n",
       "      <td>0</td>\n",
       "    </tr>\n",
       "    <tr>\n",
       "      <th>15</th>\n",
       "      <td>[vientiane, reuters, the, united, states, anno...</td>\n",
       "      <td>1</td>\n",
       "    </tr>\n",
       "    <tr>\n",
       "      <th>16</th>\n",
       "      <td>[does, a, judge, have, the, right, to, determi...</td>\n",
       "      <td>0</td>\n",
       "    </tr>\n",
       "    <tr>\n",
       "      <th>17</th>\n",
       "      <td>[politicians, are, all, about, photo, ops, thi...</td>\n",
       "      <td>0</td>\n",
       "    </tr>\n",
       "    <tr>\n",
       "      <th>18</th>\n",
       "      <td>[republicans, are, once, again, putting, their...</td>\n",
       "      <td>0</td>\n",
       "    </tr>\n",
       "    <tr>\n",
       "      <th>19</th>\n",
       "      <td>[washington, reuters, legislation, to, bypass,...</td>\n",
       "      <td>1</td>\n",
       "    </tr>\n",
       "  </tbody>\n",
       "</table>\n",
       "</div>"
      ],
      "text/plain": [
       "                                                 text  Target\n",
       "0   [st, century, wire, says, ben, stein, reputabl...       0\n",
       "1   [washington, reuters, u, s, president, donald,...       1\n",
       "2   [reuters, puerto, rico, governor, ricardo, ros...       1\n",
       "3   [on, monday, donald, trump, once, again, embar...       0\n",
       "4   [glasgow, scotland, reuters, most, u, s, presi...       1\n",
       "5   [on, wednesday, democrats, took, a, powerful, ...       0\n",
       "6   [president, trump, s, rally, in, fl, on, satur...       0\n",
       "7   [he, s, been, europe, s, version, of, the, out...       0\n",
       "8   [washington, reuters, the, state, department, ...       1\n",
       "9   [this, version, of, the, story, corrects, the,...       1\n",
       "10  [washington, reuters, new, jersey, governor, c...       1\n",
       "11                                                 []       0\n",
       "12  [paris, reuters, france, and, germany, agree, ...       1\n",
       "13  [brussels, reuters, martin, selmayr, a, top, a...       1\n",
       "14  [before, you, blame, trump, for, not, being, c...       0\n",
       "15  [vientiane, reuters, the, united, states, anno...       1\n",
       "16  [does, a, judge, have, the, right, to, determi...       0\n",
       "17  [politicians, are, all, about, photo, ops, thi...       0\n",
       "18  [republicans, are, once, again, putting, their...       0\n",
       "19  [washington, reuters, legislation, to, bypass,...       1"
      ]
     },
     "execution_count": 243,
     "metadata": {},
     "output_type": "execute_result"
    }
   ],
   "source": [
    "fakenews.head(20)"
   ]
  },
  {
   "cell_type": "code",
   "execution_count": 244,
   "id": "618920de-961c-4bdd-ba31-a8ab2732b69b",
   "metadata": {},
   "outputs": [
    {
     "data": {
      "text/html": [
       "<div>\n",
       "<style scoped>\n",
       "    .dataframe tbody tr th:only-of-type {\n",
       "        vertical-align: middle;\n",
       "    }\n",
       "\n",
       "    .dataframe tbody tr th {\n",
       "        vertical-align: top;\n",
       "    }\n",
       "\n",
       "    .dataframe thead th {\n",
       "        text-align: right;\n",
       "    }\n",
       "</style>\n",
       "<table border=\"1\" class=\"dataframe\">\n",
       "  <thead>\n",
       "    <tr style=\"text-align: right;\">\n",
       "      <th></th>\n",
       "      <th>text</th>\n",
       "      <th>Target</th>\n",
       "    </tr>\n",
       "  </thead>\n",
       "  <tbody>\n",
       "    <tr>\n",
       "      <th>0</th>\n",
       "      <td>[st, century, wire, says, ben, stein, reputabl...</td>\n",
       "      <td>0</td>\n",
       "    </tr>\n",
       "    <tr>\n",
       "      <th>1</th>\n",
       "      <td>[washington, reuters, u, s, president, donald,...</td>\n",
       "      <td>1</td>\n",
       "    </tr>\n",
       "    <tr>\n",
       "      <th>2</th>\n",
       "      <td>[reuters, puerto, rico, governor, ricardo, ros...</td>\n",
       "      <td>1</td>\n",
       "    </tr>\n",
       "    <tr>\n",
       "      <th>3</th>\n",
       "      <td>[on, monday, donald, trump, once, again, embar...</td>\n",
       "      <td>0</td>\n",
       "    </tr>\n",
       "    <tr>\n",
       "      <th>4</th>\n",
       "      <td>[glasgow, scotland, reuters, most, u, s, presi...</td>\n",
       "      <td>1</td>\n",
       "    </tr>\n",
       "    <tr>\n",
       "      <th>...</th>\n",
       "      <td>...</td>\n",
       "      <td>...</td>\n",
       "    </tr>\n",
       "    <tr>\n",
       "      <th>44892</th>\n",
       "      <td>[miss, universe, alicia, machado, is, now, an,...</td>\n",
       "      <td>0</td>\n",
       "    </tr>\n",
       "    <tr>\n",
       "      <th>44894</th>\n",
       "      <td>[london, tokyo, reuters, british, prime, minis...</td>\n",
       "      <td>1</td>\n",
       "    </tr>\n",
       "    <tr>\n",
       "      <th>44895</th>\n",
       "      <td>[berlin, reuters, chancellor, angela, merkel, ...</td>\n",
       "      <td>1</td>\n",
       "    </tr>\n",
       "    <tr>\n",
       "      <th>44896</th>\n",
       "      <td>[jesus, f, cking, christ, our, president, is, ...</td>\n",
       "      <td>0</td>\n",
       "    </tr>\n",
       "    <tr>\n",
       "      <th>44897</th>\n",
       "      <td>[if, she, s, not, toast, now, then, we, re, in...</td>\n",
       "      <td>0</td>\n",
       "    </tr>\n",
       "  </tbody>\n",
       "</table>\n",
       "<p>44058 rows × 2 columns</p>\n",
       "</div>"
      ],
      "text/plain": [
       "                                                    text  Target\n",
       "0      [st, century, wire, says, ben, stein, reputabl...       0\n",
       "1      [washington, reuters, u, s, president, donald,...       1\n",
       "2      [reuters, puerto, rico, governor, ricardo, ros...       1\n",
       "3      [on, monday, donald, trump, once, again, embar...       0\n",
       "4      [glasgow, scotland, reuters, most, u, s, presi...       1\n",
       "...                                                  ...     ...\n",
       "44892  [miss, universe, alicia, machado, is, now, an,...       0\n",
       "44894  [london, tokyo, reuters, british, prime, minis...       1\n",
       "44895  [berlin, reuters, chancellor, angela, merkel, ...       1\n",
       "44896  [jesus, f, cking, christ, our, president, is, ...       0\n",
       "44897  [if, she, s, not, toast, now, then, we, re, in...       0\n",
       "\n",
       "[44058 rows x 2 columns]"
      ]
     },
     "execution_count": 244,
     "metadata": {},
     "output_type": "execute_result"
    }
   ],
   "source": [
    "fakenews[fakenews['text'].map(lambda d: len(d)) > 0]"
   ]
  },
  {
   "cell_type": "code",
   "execution_count": 202,
   "id": "c6b97fa2-e8bf-4071-9e6f-95a75bbe2620",
   "metadata": {},
   "outputs": [
    {
     "name": "stdout",
     "output_type": "stream",
     "text": [
      "<class 'pandas.core.frame.DataFrame'>\n",
      "Int64Index: 44689 entries, 0 to 44897\n",
      "Data columns (total 2 columns):\n",
      " #   Column  Non-Null Count  Dtype \n",
      "---  ------  --------------  ----- \n",
      " 0   text    44689 non-null  object\n",
      " 1   Target  44689 non-null  int64 \n",
      "dtypes: int64(1), object(1)\n",
      "memory usage: 1.0+ MB\n"
     ]
    }
   ],
   "source": [
    "fakenews.info()"
   ]
  },
  {
   "cell_type": "code",
   "execution_count": 203,
   "id": "1bef5e71-189a-4e65-a2d3-c459621b904e",
   "metadata": {},
   "outputs": [],
   "source": [
    "stop = set(stopwords.words('english'))\n",
    "\n",
    "fakenews['text'] = fakenews['text'].apply(lambda x: [item for item in x if item not in stop])\n"
   ]
  },
  {
   "cell_type": "code",
   "execution_count": 205,
   "id": "d05e92ed-356a-4e42-a027-ad4a962df527",
   "metadata": {},
   "outputs": [],
   "source": [
    "fakenews['text'] = fakenews['text'].str.join(\" \")\n"
   ]
  },
  {
   "cell_type": "code",
   "execution_count": 154,
   "id": "ea8d8071-107a-4495-8360-ba18810a818f",
   "metadata": {},
   "outputs": [
    {
     "data": {
      "text/html": [
       "<div>\n",
       "<style scoped>\n",
       "    .dataframe tbody tr th:only-of-type {\n",
       "        vertical-align: middle;\n",
       "    }\n",
       "\n",
       "    .dataframe tbody tr th {\n",
       "        vertical-align: top;\n",
       "    }\n",
       "\n",
       "    .dataframe thead th {\n",
       "        text-align: right;\n",
       "    }\n",
       "</style>\n",
       "<table border=\"1\" class=\"dataframe\">\n",
       "  <thead>\n",
       "    <tr style=\"text-align: right;\">\n",
       "      <th></th>\n",
       "      <th>text</th>\n",
       "      <th>Target</th>\n",
       "    </tr>\n",
       "  </thead>\n",
       "  <tbody>\n",
       "    <tr>\n",
       "      <th>0</th>\n",
       "      <td>st century wire says ben stein reputable profe...</td>\n",
       "      <td>0</td>\n",
       "    </tr>\n",
       "    <tr>\n",
       "      <th>1</th>\n",
       "      <td>washington reuters u president donald trump re...</td>\n",
       "      <td>1</td>\n",
       "    </tr>\n",
       "    <tr>\n",
       "      <th>2</th>\n",
       "      <td>reuters puerto rico governor ricardo rossello ...</td>\n",
       "      <td>1</td>\n",
       "    </tr>\n",
       "    <tr>\n",
       "      <th>3</th>\n",
       "      <td>monday donald trump embarrassed country accide...</td>\n",
       "      <td>0</td>\n",
       "    </tr>\n",
       "    <tr>\n",
       "      <th>4</th>\n",
       "      <td>glasgow scotland reuters u presidential candid...</td>\n",
       "      <td>1</td>\n",
       "    </tr>\n",
       "    <tr>\n",
       "      <th>5</th>\n",
       "      <td>wednesday democrats took powerful stance gop r...</td>\n",
       "      <td>0</td>\n",
       "    </tr>\n",
       "    <tr>\n",
       "      <th>6</th>\n",
       "      <td>president trump rally fl saturday smashing suc...</td>\n",
       "      <td>0</td>\n",
       "    </tr>\n",
       "    <tr>\n",
       "      <th>7</th>\n",
       "      <td>europe version outspoken ted cruz time nigel f...</td>\n",
       "      <td>0</td>\n",
       "    </tr>\n",
       "    <tr>\n",
       "      <th>8</th>\n",
       "      <td>washington reuters state department said wedne...</td>\n",
       "      <td>1</td>\n",
       "    </tr>\n",
       "    <tr>\n",
       "      <th>9</th>\n",
       "      <td>version story corrects figure current minimum ...</td>\n",
       "      <td>1</td>\n",
       "    </tr>\n",
       "    <tr>\n",
       "      <th>10</th>\n",
       "      <td>washington reuters new jersey governor chris c...</td>\n",
       "      <td>1</td>\n",
       "    </tr>\n",
       "    <tr>\n",
       "      <th>11</th>\n",
       "      <td></td>\n",
       "      <td>0</td>\n",
       "    </tr>\n",
       "    <tr>\n",
       "      <th>12</th>\n",
       "      <td>paris reuters france germany agree iran must r...</td>\n",
       "      <td>1</td>\n",
       "    </tr>\n",
       "    <tr>\n",
       "      <th>13</th>\n",
       "      <td>brussels reuters martin selmayr top aide head ...</td>\n",
       "      <td>1</td>\n",
       "    </tr>\n",
       "    <tr>\n",
       "      <th>14</th>\n",
       "      <td>blame trump compassionate ask middle eastern c...</td>\n",
       "      <td>0</td>\n",
       "    </tr>\n",
       "    <tr>\n",
       "      <th>15</th>\n",
       "      <td>vientiane reuters united states announced tues...</td>\n",
       "      <td>1</td>\n",
       "    </tr>\n",
       "    <tr>\n",
       "      <th>16</th>\n",
       "      <td>judge right determine mother father names chil...</td>\n",
       "      <td>0</td>\n",
       "    </tr>\n",
       "    <tr>\n",
       "      <th>17</th>\n",
       "      <td>politicians photo ops especially true high ran...</td>\n",
       "      <td>0</td>\n",
       "    </tr>\n",
       "    <tr>\n",
       "      <th>18</th>\n",
       "      <td>republicans putting party country highly antic...</td>\n",
       "      <td>0</td>\n",
       "    </tr>\n",
       "    <tr>\n",
       "      <th>19</th>\n",
       "      <td>washington reuters legislation bypass u labor ...</td>\n",
       "      <td>1</td>\n",
       "    </tr>\n",
       "  </tbody>\n",
       "</table>\n",
       "</div>"
      ],
      "text/plain": [
       "                                                 text  Target\n",
       "0   st century wire says ben stein reputable profe...       0\n",
       "1   washington reuters u president donald trump re...       1\n",
       "2   reuters puerto rico governor ricardo rossello ...       1\n",
       "3   monday donald trump embarrassed country accide...       0\n",
       "4   glasgow scotland reuters u presidential candid...       1\n",
       "5   wednesday democrats took powerful stance gop r...       0\n",
       "6   president trump rally fl saturday smashing suc...       0\n",
       "7   europe version outspoken ted cruz time nigel f...       0\n",
       "8   washington reuters state department said wedne...       1\n",
       "9   version story corrects figure current minimum ...       1\n",
       "10  washington reuters new jersey governor chris c...       1\n",
       "11                                                          0\n",
       "12  paris reuters france germany agree iran must r...       1\n",
       "13  brussels reuters martin selmayr top aide head ...       1\n",
       "14  blame trump compassionate ask middle eastern c...       0\n",
       "15  vientiane reuters united states announced tues...       1\n",
       "16  judge right determine mother father names chil...       0\n",
       "17  politicians photo ops especially true high ran...       0\n",
       "18  republicans putting party country highly antic...       0\n",
       "19  washington reuters legislation bypass u labor ...       1"
      ]
     },
     "execution_count": 154,
     "metadata": {},
     "output_type": "execute_result"
    }
   ],
   "source": [
    "fakenews.head(20)"
   ]
  },
  {
   "cell_type": "code",
   "execution_count": 35,
   "id": "47b0ad35-ea62-4e28-8076-493e68fc8196",
   "metadata": {},
   "outputs": [
    {
     "name": "stdout",
     "output_type": "stream",
     "text": [
      "<class 'pandas.core.frame.DataFrame'>\n",
      "Int64Index: 44689 entries, 0 to 44897\n",
      "Data columns (total 2 columns):\n",
      " #   Column  Non-Null Count  Dtype \n",
      "---  ------  --------------  ----- \n",
      " 0   text    44689 non-null  object\n",
      " 1   Target  44689 non-null  int64 \n",
      "dtypes: int64(1), object(1)\n",
      "memory usage: 1.0+ MB\n"
     ]
    }
   ],
   "source": [
    "fakenews.info()"
   ]
  },
  {
   "cell_type": "code",
   "execution_count": 155,
   "id": "b5ade90a-3250-4f26-b178-8728e7c4ff04",
   "metadata": {},
   "outputs": [],
   "source": [
    "X = fakenews[\"text\"]\n",
    "y = fakenews[\"Target\"]"
   ]
  },
  {
   "cell_type": "code",
   "execution_count": 156,
   "id": "0cab432c-a600-4861-b731-bd502e6039c5",
   "metadata": {},
   "outputs": [],
   "source": [
    "vectorizer = TfidfVectorizer()\n",
    "X = vectorizer.fit_transform(X)\n"
   ]
  },
  {
   "cell_type": "code",
   "execution_count": 169,
   "id": "8ea05e43-c755-4bd1-93ad-a4a5e064c926",
   "metadata": {},
   "outputs": [],
   "source": [
    "#vectorizer.get_feature_names()"
   ]
  },
  {
   "cell_type": "code",
   "execution_count": 173,
   "id": "75ac1a02-62ec-470e-a1a0-b412a6ad2135",
   "metadata": {},
   "outputs": [],
   "source": [
    "#vectorizer.vocabulary_.items()\n"
   ]
  },
  {
   "cell_type": "code",
   "execution_count": 158,
   "id": "06ca3347-9ae8-4893-8f7d-fcf9cf45d860",
   "metadata": {},
   "outputs": [],
   "source": [
    "X_train, X_test, y_train, y_test = train_test_split(X, y,test_size=0.25, random_state=0)"
   ]
  },
  {
   "cell_type": "raw",
   "id": "b6d4fff5-49e7-4bcd-ae67-e8d4b90bb36d",
   "metadata": {},
   "source": [
    "#LogisticRegression"
   ]
  },
  {
   "cell_type": "code",
   "execution_count": 159,
   "id": "1ca0d6d4-cce3-4c27-b239-2b0a3d0c016a",
   "metadata": {},
   "outputs": [
    {
     "data": {
      "text/plain": [
       "LogisticRegression()"
      ]
     },
     "execution_count": 159,
     "metadata": {},
     "output_type": "execute_result"
    }
   ],
   "source": [
    "lr = LogisticRegression()\n",
    "lr.fit(X_train,y_train)"
   ]
  },
  {
   "cell_type": "code",
   "execution_count": 160,
   "id": "5877e0be-d32a-4d93-b4da-4da7228873ae",
   "metadata": {},
   "outputs": [
    {
     "data": {
      "text/plain": [
       "98.64852770070706"
      ]
     },
     "execution_count": 160,
     "metadata": {},
     "output_type": "execute_result"
    }
   ],
   "source": [
    "lr_pred = lr.predict(X_test)\n",
    "metrics.accuracy_score(y_test, lr_pred)*100\n"
   ]
  },
  {
   "cell_type": "code",
   "execution_count": 161,
   "id": "dba1d4cb-ea5a-4c90-ae54-5f7836e25fa3",
   "metadata": {},
   "outputs": [
    {
     "name": "stdout",
     "output_type": "stream",
     "text": [
      "              precision    recall  f1-score   support\n",
      "\n",
      "           0       0.52      0.52      0.52      5861\n",
      "           1       0.47      0.47      0.47      5312\n",
      "\n",
      "    accuracy                           0.50     11173\n",
      "   macro avg       0.50      0.50      0.50     11173\n",
      "weighted avg       0.50      0.50      0.50     11173\n",
      "\n"
     ]
    }
   ],
   "source": [
    "print(metrics.classification_report(y_test,pred))"
   ]
  },
  {
   "cell_type": "code",
   "execution_count": 162,
   "id": "dcd72042-aae6-40d9-86fd-89566c102c10",
   "metadata": {},
   "outputs": [],
   "source": [
    "#MultinomialNB"
   ]
  },
  {
   "cell_type": "code",
   "execution_count": 163,
   "id": "2f680a49-23a1-4961-9b26-d6144d39d0ce",
   "metadata": {},
   "outputs": [
    {
     "data": {
      "text/plain": [
       "MultinomialNB()"
      ]
     },
     "execution_count": 163,
     "metadata": {},
     "output_type": "execute_result"
    }
   ],
   "source": [
    "nb=MultinomialNB()\n",
    "nb.fit(X_train, y_train)"
   ]
  },
  {
   "cell_type": "code",
   "execution_count": 164,
   "id": "b6b7b719-1950-4062-bcfd-1ee3c17b06e4",
   "metadata": {},
   "outputs": [
    {
     "data": {
      "text/plain": [
       "93.5827441152779"
      ]
     },
     "execution_count": 164,
     "metadata": {},
     "output_type": "execute_result"
    }
   ],
   "source": [
    "nb_pred = nb.predict(X_test)\n",
    "metrics.accuracy_score(y_test, nb_pred)*100\n"
   ]
  },
  {
   "cell_type": "code",
   "execution_count": 165,
   "id": "3864e060-9906-4bb7-85c0-e092c6cf2434",
   "metadata": {},
   "outputs": [
    {
     "name": "stdout",
     "output_type": "stream",
     "text": [
      "              precision    recall  f1-score   support\n",
      "\n",
      "           0       0.93      0.95      0.94      5861\n",
      "           1       0.94      0.92      0.93      5312\n",
      "\n",
      "    accuracy                           0.94     11173\n",
      "   macro avg       0.94      0.94      0.94     11173\n",
      "weighted avg       0.94      0.94      0.94     11173\n",
      "\n"
     ]
    }
   ],
   "source": [
    "print(metrics.classification_report(y_test,nb_pred))"
   ]
  },
  {
   "cell_type": "raw",
   "id": "c3eafc2e-6ced-42df-91b4-6cf5d326be10",
   "metadata": {},
   "source": [
    "#DecisionTree"
   ]
  },
  {
   "cell_type": "code",
   "execution_count": 166,
   "id": "005e03ac-034f-458f-89fa-27e0974945af",
   "metadata": {},
   "outputs": [
    {
     "data": {
      "text/plain": [
       "DecisionTreeClassifier()"
      ]
     },
     "execution_count": 166,
     "metadata": {},
     "output_type": "execute_result"
    }
   ],
   "source": [
    "dt = DecisionTreeClassifier()\n",
    "dt.fit(X_train, y_train)"
   ]
  },
  {
   "cell_type": "code",
   "execution_count": 167,
   "id": "e8823ac4-185d-4554-aeb1-325c58082021",
   "metadata": {},
   "outputs": [
    {
     "data": {
      "text/plain": [
       "99.66884453593484"
      ]
     },
     "execution_count": 167,
     "metadata": {},
     "output_type": "execute_result"
    }
   ],
   "source": [
    "dt_pred = dt.predict(X_test)\n",
    "metrics.accuracy_score(y_test, dt_pred)*100"
   ]
  },
  {
   "cell_type": "code",
   "execution_count": 168,
   "id": "341379c1-387b-4637-87ef-4bfb56d2005f",
   "metadata": {},
   "outputs": [
    {
     "name": "stdout",
     "output_type": "stream",
     "text": [
      "              precision    recall  f1-score   support\n",
      "\n",
      "           0       1.00      1.00      1.00      5861\n",
      "           1       1.00      1.00      1.00      5312\n",
      "\n",
      "    accuracy                           1.00     11173\n",
      "   macro avg       1.00      1.00      1.00     11173\n",
      "weighted avg       1.00      1.00      1.00     11173\n",
      "\n"
     ]
    }
   ],
   "source": [
    "print(metrics.classification_report(y_test,dt_pred))"
   ]
  },
  {
   "cell_type": "code",
   "execution_count": null,
   "id": "0bc7133e-856c-46bc-8182-cc712ebafc5f",
   "metadata": {},
   "outputs": [],
   "source": []
  }
 ],
 "metadata": {
  "kernelspec": {
   "display_name": "Python 3 (ipykernel)",
   "language": "python",
   "name": "python3"
  },
  "language_info": {
   "codemirror_mode": {
    "name": "ipython",
    "version": 3
   },
   "file_extension": ".py",
   "mimetype": "text/x-python",
   "name": "python",
   "nbconvert_exporter": "python",
   "pygments_lexer": "ipython3",
   "version": "3.8.13"
  }
 },
 "nbformat": 4,
 "nbformat_minor": 5
}
